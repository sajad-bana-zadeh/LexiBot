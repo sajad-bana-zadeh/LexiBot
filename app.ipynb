{
 "cells": [
  {
   "cell_type": "code",
   "execution_count": 1,
   "id": "47872473-9cbb-4c9e-98f4-4b5baf572f0c",
   "metadata": {},
   "outputs": [],
   "source": [
    "import nltk"
   ]
  },
  {
   "cell_type": "code",
   "execution_count": 2,
   "id": "c5778202-9d77-47a4-8203-7d3cedd8d7ff",
   "metadata": {},
   "outputs": [],
   "source": [
    "from nltk.corpus import wordnet"
   ]
  },
  {
   "cell_type": "code",
   "execution_count": 3,
   "id": "73bf82b2-8895-42a9-bef2-caec6e60edf7",
   "metadata": {},
   "outputs": [],
   "source": [
    "import os"
   ]
  },
  {
   "cell_type": "markdown",
   "id": "492ce0e6-7cc8-4561-b6c2-57017515276a",
   "metadata": {},
   "source": [
    "___"
   ]
  },
  {
   "cell_type": "markdown",
   "id": "e2ba4069-56bb-4c76-9ad3-be0084fd77ee",
   "metadata": {},
   "source": [
    "## Path where you want to store/load NLTK data"
   ]
  },
  {
   "cell_type": "code",
   "execution_count": 4,
   "id": "d88962b9-8b6f-42ee-910c-00c640d508c2",
   "metadata": {},
   "outputs": [],
   "source": [
    "nltk_data_dir = './nltk_data'"
   ]
  },
  {
   "cell_type": "markdown",
   "id": "22f454a2-d48b-4d67-9eeb-4a03e047b813",
   "metadata": {},
   "source": [
    "## Create the directory if it doesn't exist"
   ]
  },
  {
   "cell_type": "code",
   "execution_count": 5,
   "id": "2b5ee1e1-0124-4090-b6ef-95a46c63a0cb",
   "metadata": {},
   "outputs": [],
   "source": [
    "if not os.path.exists(nltk_data_dir):\n",
    "    os.makedirs(nltk_data_dir)"
   ]
  },
  {
   "cell_type": "markdown",
   "id": "01ec9e78-63f5-4532-b91b-97f0e988b9f1",
   "metadata": {},
   "source": [
    "## Add this path to NLTK's data search paths"
   ]
  },
  {
   "cell_type": "code",
   "execution_count": 6,
   "id": "fa89fc32-bf6d-4c00-800a-ceb5a3c44900",
   "metadata": {},
   "outputs": [],
   "source": [
    "if nltk_data_dir not in nltk.data.path:\n",
    "    nltk.data.path.append(nltk_data_dir)"
   ]
  },
  {
   "cell_type": "markdown",
   "id": "1271eae9-4525-4e95-8264-49471e29cfa2",
   "metadata": {},
   "source": [
    "## Check if WordNet is already downloaded locally by looking for its directory"
   ]
  },
  {
   "cell_type": "code",
   "execution_count": 7,
   "id": "300c1d17-5bbf-4b2d-ba5c-51ec6b260ca5",
   "metadata": {},
   "outputs": [],
   "source": [
    "wordnet_path = os.path.join(nltk_data_dir, 'corpora', 'wordnet')"
   ]
  },
  {
   "cell_type": "code",
   "execution_count": 8,
   "id": "b47724c6-5174-45a4-8e95-ef3569942617",
   "metadata": {},
   "outputs": [
    {
     "name": "stdout",
     "output_type": "stream",
     "text": [
      "WordNet not found locally. Downloading...\n"
     ]
    },
    {
     "name": "stderr",
     "output_type": "stream",
     "text": [
      "[nltk_data] Downloading package wordnet to ./nltk_data...\n",
      "[nltk_data]   Package wordnet is already up-to-date!\n"
     ]
    }
   ],
   "source": [
    "if not os.path.exists(wordnet_path):\n",
    "    print(\"WordNet not found locally. Downloading...\")\n",
    "    nltk.download('wordnet', download_dir=nltk_data_dir)\n",
    "else:\n",
    "    print(\"WordNet resource found locally. Loading from disk.\")"
   ]
  },
  {
   "cell_type": "markdown",
   "id": "143533fe-39e5-4356-8914-a395f25d7c7b",
   "metadata": {},
   "source": [
    "___"
   ]
  },
  {
   "cell_type": "code",
   "execution_count": 9,
   "id": "8396626b-b1c0-44eb-88a2-74b779ecd61c",
   "metadata": {},
   "outputs": [],
   "source": [
    "x = wordnet.synsets(\"book\")[0]"
   ]
  },
  {
   "cell_type": "code",
   "execution_count": 10,
   "id": "20123ebc-f33e-4bc2-aea3-0f349decf3d1",
   "metadata": {},
   "outputs": [
    {
     "data": {
      "text/plain": [
       "'a written work or composition that has been published (printed on pages bound together)'"
      ]
     },
     "execution_count": 10,
     "metadata": {},
     "output_type": "execute_result"
    }
   ],
   "source": [
    "x.definition()"
   ]
  },
  {
   "cell_type": "code",
   "execution_count": 11,
   "id": "5013b33d-783a-484b-af51-e5fb58914bf8",
   "metadata": {},
   "outputs": [
    {
     "data": {
      "text/plain": [
       "['I am reading a good book on economics']"
      ]
     },
     "execution_count": 11,
     "metadata": {},
     "output_type": "execute_result"
    }
   ],
   "source": [
    "x.examples()"
   ]
  },
  {
   "cell_type": "code",
   "execution_count": 12,
   "id": "03033cdd-08a7-45ff-97ea-ce47f90c0688",
   "metadata": {},
   "outputs": [
    {
     "data": {
      "text/plain": [
       "[Synset('publication.n.01')]"
      ]
     },
     "execution_count": 12,
     "metadata": {},
     "output_type": "execute_result"
    }
   ],
   "source": [
    "x.hypernyms()"
   ]
  },
  {
   "cell_type": "code",
   "execution_count": null,
   "id": "f50cd3b5-720d-4bd9-a37b-4649f2ddcdd7",
   "metadata": {},
   "outputs": [],
   "source": []
  }
 ],
 "metadata": {
  "kernelspec": {
   "display_name": "Python 3 (ipykernel)",
   "language": "python",
   "name": "python3"
  },
  "language_info": {
   "codemirror_mode": {
    "name": "ipython",
    "version": 3
   },
   "file_extension": ".py",
   "mimetype": "text/x-python",
   "name": "python",
   "nbconvert_exporter": "python",
   "pygments_lexer": "ipython3",
   "version": "3.11.2"
  }
 },
 "nbformat": 4,
 "nbformat_minor": 5
}
